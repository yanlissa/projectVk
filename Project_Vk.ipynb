{
 "cells": [
  {
   "cell_type": "markdown",
   "id": "a59f24d2-152a-4586-9770-b96604c86d4b",
   "metadata": {},
   "source": [
    "### Задание: построить нейронную модель для предсказания цен на книги на базе данных https://www.labirint.ru"
   ]
  },
  {
   "cell_type": "markdown",
   "id": "c935e25c-c708-4de6-b3a8-7176b90fc502",
   "metadata": {},
   "source": [
    "1. Предобработка данных (считаем, что allPrice в бд лабиринта - это маректинговый ход, заключающийся в намеренном завышении цены с последующей скидкой для роста продаж, поэтому целевым параметром будем считать )\n",
    "   Идея: чистка данных от пустых значений, преобразование текстовых полей в численные, "
   ]
  },
  {
   "cell_type": "code",
   "execution_count": 14,
   "id": "6294a83a-9c08-4a14-bc1a-2d3dcf9f0a79",
   "metadata": {},
   "outputs": [
    {
     "name": "stdout",
     "output_type": "stream",
     "text": [
      "['Unnamed: 0', 'id', 'typeObject', 'groupOfType', 'underGroup', 'genres', 'bookName', 'imgUrl', 'age', 'authors', 'publisher', 'datePublisher', 'series', 'bookGenres', 'allPrice', 'myPrice', 'sale', 'isbn', 'pages', 'pageType', 'weight', 'da', 'db', 'dc', 'covers', 'decoration', 'illustrations', 'rate', 'rateSize', 'annotation']\n"
     ]
    }
   ],
   "source": [
    "df = pd.read_csv('labirint_dataset.csv', sep=';')\n",
    "\n",
    "print(df.columns.tolist())"
   ]
  },
  {
   "cell_type": "code",
   "execution_count": 1,
   "id": "a70287e5-1df8-4e70-8f0c-eefe72fea896",
   "metadata": {},
   "outputs": [],
   "source": [
    "import pandas as pd\n",
    "import re\n",
    "import numpy as np\n",
    "\n",
    "# Загрузка данных\n",
    "df = pd.read_csv('labirint_dataset.csv', sep=';')\n",
    "\n",
    "# Удаление строк с NaN в 'myPrice'\n",
    "df = df.dropna(subset=['myPrice'])\n",
    "\n",
    "# Удаление \"бесполезных полей\" (индексы, ссылки, уникальные номера, аннотация, скидки и полная цена)\n",
    "df = df.drop(columns=['Unnamed: 0', 'id', 'imgUrl', 'allPrice', 'sale', 'annotation', 'isbn'])\n",
    "\n",
    "# После анализа поля \"Название\", было принято решение также дропнуть это поле, так как есть другие параметры, \n",
    "# которые учитывают ключевые слова, которые могут влиять на цену\n",
    "df = df.drop(columns=['bookName'])\n",
    "\n",
    "# Также незначительным посчитали год издания, так как большее влияние оказываюь специфика производства\n",
    "df = df.drop(columns=['datePublisher'])\n",
    "\n",
    "# Значения рейтинга сделаем бинарным (совместимость с моделями ребят из команды)\n",
    "df['rate'] = df['rate'].fillna(0.0)\n",
    "df['rate'] = np.where(df['rate'] > 9.25, 1, 0)\n",
    "df = df.drop(columns=['rateSize'])\n",
    "\n",
    "# Заменим размеры книг на их объем, введя новый параметр 'volume' (имеет смысл, так как объемные энциклопедии \n",
    "# стоят дороже, чем легкие развивашки для детей). Пропуски заполним медианой, т.к. это оптимальный способ\n",
    "\n",
    "# Заполнение пропущенных значений медианой\n",
    "df['da'] = df['da'].fillna(df['da'].median())\n",
    "df['db'] = df['db'].fillna(df['db'].median())\n",
    "df['dc'] = df['dc'].fillna(df['dc'].median())\n",
    "\n",
    "# Создание нового признака \"объем\", мм^3 переведем в см^3\n",
    "df['volume'] = df['da'] * df['db'] * df['dc'] * 10**(-3)\n",
    "\n",
    "# Удаление исходных признаков\n",
    "df = df.drop(columns=['da', 'db', 'dc'])\n",
    "df['volume'] = df['volume'].round(1)\n",
    "\n",
    "# Параметр 'weight' зависит от 'volume' через плотность, поэтому они высоко коррелируют, т.е. удаляем\n",
    "df = df.drop(columns=['weight'])\n",
    "\n",
    "# Проанализируем процент пропуска для полей\n",
    "# Поле 'age' пусто на ~67%. Т.к. коэффициент детерминации r2~0.02, то этим полем мы можем пренебречь\n",
    "df = df.drop(columns=['age'])\n",
    "\n",
    "# Поле 'bookGenres' пусто на ~76%. Причем количество уникальных значений составляет 707, а так как информация об этом\n",
    "# параметре содержится в 'underGroup', удаляем его\n",
    "df = df.drop(columns=['bookGenres'])\n",
    "\n",
    "# Поле 'decoration' пусто на 70%, однако дорогие материала значительно влияют на цену. Можно проанализировать, какие\n",
    "# именно декорации являются уникальными. После текстового анализа можно выделить 25 отдельных категорий, каждый из\n",
    "# которых оказывает значительное влияние на ценообразование. Выделим их, как отдельные бинарные поля\n",
    "# Заполнение пропусков\n",
    "df['decoration'] = df['decoration'].fillna('Без декораций').str.lower()\n",
    "\n",
    "# Функция для создания бинарных признаков\n",
    "def add_binary_features(df_init, patterns):\n",
    "    for feature, pattern in patterns.items():\n",
    "        df_init[feature] = df_init['decoration'].apply(lambda x: 1 if re.search(pattern, x) else 0)\n",
    "    return df_init\n",
    "\n",
    "# Паттерны для каждой категории\n",
    "patterns = {\n",
    "    # Основные эффекты\n",
    "    'embossing_gold': r'тиснение золотом',\n",
    "    'embossing_silver': r'тиснение серебром',\n",
    "    'embossing_colored': r'тиснение цветное',\n",
    "    'embossing_volume': r'тиснение объемное',\n",
    "    'partial_lacquer': r'частичная лакировка',\n",
    "    'puffy_cover': r'пухлая обложка',\n",
    "\n",
    "    # Дополнения\n",
    "    'bookmark_ribbon': r'ляссе',\n",
    "    'super_cover': r'супер',\n",
    "    'edge_trim_gold': r'обрез золотой',\n",
    "    'edge_trim_silver': r'обрез серебряный',\n",
    "    'edge_trim_colored': r'обрез цветной',\n",
    "    'slipcase_close': r'футляр закрытый',\n",
    "    'slipcase_open': r'футляр открытый',\n",
    "    \n",
    "    # Функциональные элементы\n",
    "    'stickers': r'с наклейками',\n",
    "    'puzzles': r'с пазлами',\n",
    "    'movable_elements': r'с подвижными элементами',\n",
    "    'volume_panorama': r'с объемной панорамой',\n",
    "    'sound_module': r'со звуковым модулем',\n",
    "    'toy': r'с игрушкой',\n",
    "    'magnet': r'с магнитами',\n",
    "\n",
    "    # Специальные покрытия и материалы\n",
    "    'glitter': r'глиттер',\n",
    "    'flocking': r'флокинг',\n",
    "    'soft_touch': r'покрытие софттач',\n",
    "\n",
    "    # Сложные конструкции\n",
    "    'cutouts': r'вырубка',\n",
    "    'textile_inserts': r'текстильные и пластиковые вставки'\n",
    "}\n",
    "\n",
    "# Применяем функцию\n",
    "df = add_binary_features(df, patterns)\n",
    "df = df.drop(columns=['decoration'])\n",
    "\n",
    "# Поле 'typeObject' делится либо на книги, либо на книги на ин. языке, поэтому можем упростить до бинарного поля 'foreign language'\n",
    "df['typeObject'] = df['typeObject'].fillna('Книги')\n",
    "df['foreign_language'] = (df['typeObject'] == 'Книги на иностранном языке').astype(int)\n",
    "df = df.drop(columns=['typeObject'])\n",
    "\n",
    "# Поле 'illustrations' состоит из меток чб, цвет, чб+цвет, без иллюстраций, поэтому также добавим бинарные поля.\n",
    "# Так как поле 'illustrations' заполнено на ~99.2%, то просто дропнем незаполненные поля\n",
    "df = df.dropna(subset=['illustrations'])\n",
    "\n",
    "def add_binary_features_ill(df_init, patterns_ill):\n",
    "    for feature, pattern in patterns_ill.items():\n",
    "        df_init[feature] = df_init['illustrations'].apply(lambda x: 1 if re.search(pattern, str(x).lower()) else 0)\n",
    "    return df_init\n",
    "\n",
    "# Паттерны для каждой категории\n",
    "patterns_ill = {\n",
    "    # Основные эффекты\n",
    "    'black_white': r'черно-белые',\n",
    "    'color': r'цветные'\n",
    "}\n",
    "\n",
    "# Применяем функцию\n",
    "df = add_binary_features_ill(df, patterns_ill)\n",
    "df = df.drop(columns=['illustrations'])\n",
    "\n",
    "# В силу сложности обработки текстовых категорий ('groupOfType', 'underGroup', 'genres', 'authors', 'publisher', 'series')\n",
    "# пренебрежим этими параметрами в пользу материальных качеств книги\n",
    "df = df.drop(columns=['groupOfType'])\n",
    "df = df.drop(columns=['underGroup'])\n",
    "df = df.drop(columns=['genres'])\n",
    "df = df.drop(columns=['authors'])\n",
    "df = df.drop(columns=['publisher'])\n",
    "df = df.drop(columns=['series'])\n",
    "\n",
    "# Поле 'pageType' характерирует качество бумаги, имеет смысл нумеровать их в порядке возрастая качества бумаги\n",
    "df = df.dropna(subset=['pageType'])\n",
    "\n",
    "quality = {\n",
    "    'Газетная': 0, 'Офсет': 1, 'Крафт': 2, 'Типографская': 3, 'Мелованная': 4, 'Картон': 5,\n",
    "    'Ламинированные': 6, 'Рисовая': 7, 'Дизайнерская бумага': 8, 'Синтетическая': 9, 'ПВХ': 10,\n",
    "    'Рафлаглосс': 11, 'Ткань': 12\n",
    "}\n",
    "\n",
    "df['pageType'] = df['pageType'].map(quality)\n",
    "\n",
    "# Последнее поле 'covers' характеризует качество обложки. Поступим, как с типом бумаги\n",
    "df = df.dropna(subset=['covers'])\n",
    "\n",
    "cover = {\n",
    "    'обл': 0, 'Лист': 1, 'Пакет': 2, 'Blister': 3, 'Jewel-box': 4, \n",
    "    'Amarey': 5, 'Blu-Ray': 6, 'карт': 7, 'Обл.': 8, '7Б': 9, \n",
    "    '7А': 10, '7Бц': 11, 'Инт': 12, 'Box': 13\n",
    "}\n",
    "\n",
    "# Оставляем только первое слово до пробела и убираем лишние пробелы\n",
    "df['covers'] = df['covers'].apply(lambda x: x.strip().split(' ')[0])\n",
    "\n",
    "# Применяем словарь для замены\n",
    "df['covers'] = df['covers'].map(cover)\n",
    "\n",
    "# Сохранение очищенных данных в новый CSV файл\n",
    "df.to_csv('cleaned_labirint_dataset.csv', index=False)"
   ]
  },
  {
   "cell_type": "code",
   "execution_count": 2,
   "id": "6cbec30f-2c5a-4d37-9f95-17d1161a895e",
   "metadata": {},
   "outputs": [
    {
     "name": "stdout",
     "output_type": "stream",
     "text": [
      "['myPrice', 'pages', 'pageType', 'covers', 'rate', 'volume', 'embossing_gold', 'embossing_silver', 'embossing_colored', 'embossing_volume', 'partial_lacquer', 'puffy_cover', 'bookmark_ribbon', 'super_cover', 'edge_trim_gold', 'edge_trim_silver', 'edge_trim_colored', 'slipcase_close', 'slipcase_open', 'stickers', 'puzzles', 'movable_elements', 'volume_panorama', 'sound_module', 'toy', 'magnet', 'glitter', 'flocking', 'soft_touch', 'cutouts', 'textile_inserts', 'foreign_language', 'black_white', 'color']\n"
     ]
    }
   ],
   "source": [
    "print(df.columns.tolist())"
   ]
  },
  {
   "cell_type": "code",
   "execution_count": 3,
   "id": "e26233c2-0526-45f0-bd05-841912ee2abb",
   "metadata": {},
   "outputs": [
    {
     "name": "stdout",
     "output_type": "stream",
     "text": [
      "34\n"
     ]
    }
   ],
   "source": [
    "print(df.shape[1])"
   ]
  },
  {
   "cell_type": "code",
   "execution_count": 4,
   "id": "8625b0b5-4f45-46a1-abb5-854fd73dbfba",
   "metadata": {},
   "outputs": [
    {
     "data": {
      "image/png": "[encoded data removed]",
      "text/plain": [
       "<Figure size 1500x1200 with 2 Axes>"
      ]
     },
     "metadata": {},
     "output_type": "display_data"
    }
   ],
   "source": [
    "import matplotlib.pyplot as plt\n",
    "import seaborn as sns\n",
    "\n",
    "# Построим тепловую карту корреляций\n",
    "plt.figure(figsize=(15, 12))\n",
    "correlation_matrix = df.corr()\n",
    "sns.heatmap(correlation_matrix, annot=False, cmap='coolwarm', linewidths=0.5)\n",
    "plt.title('Correlation Matrix')\n",
    "plt.show()"
   ]
  },
  {
   "cell_type": "code",
   "execution_count": 5,
   "id": "b112bb8f-0a23-4872-a256-f700dd7a825f",
   "metadata": {},
   "outputs": [],
   "source": [
    "# Как видно из матрицы корреляций, мы может избавитсья от полностью пустого параметра 'sound_module' \n",
    "# (обнулился, т.к. мы дропали некоторые пустые строки для полей в силу их малой незаполненности)\n",
    "df = df.drop(columns=['sound_module'])"
   ]
  },
  {
   "cell_type": "code",
   "execution_count": 6,
   "id": "5164f75a-91b7-4dd2-8ef5-bab28f8cbe8a",
   "metadata": {},
   "outputs": [
    {
     "name": "stdout",
     "output_type": "stream",
     "text": [
      "             Variable1         Variable2  Correlation\n",
      "39               pages            volume     0.654479\n",
      "31             myPrice  foreign_language     0.522521\n",
      "101           pageType             color     0.517418\n",
      "5              myPrice            volume     0.471289\n",
      "107             covers            volume     0.415888\n",
      "743   movable_elements           cutouts     0.287476\n",
      "1016           cutouts   textile_inserts     0.275956\n",
      "37               pages            covers     0.272274\n",
      "1              myPrice             pages     0.252241\n",
      "97            pageType           cutouts     0.246228\n"
     ]
    }
   ],
   "source": [
    "# Теперь найдем максимальные элементы в матрице (не учитывая диагональные и дублирующиеся данные)\n",
    "\n",
    "# Преобразуем матрицу в формат long\n",
    "correlation_pairs = correlation_matrix.unstack()\n",
    "\n",
    "# Убираем дубли (нижний треугольник и диагональ)\n",
    "correlation_pairs = correlation_pairs.reset_index()\n",
    "correlation_pairs.columns = ['Variable1', 'Variable2', 'Correlation']\n",
    "correlation_pairs = correlation_pairs[correlation_pairs['Variable1'] != correlation_pairs['Variable2']]\n",
    "correlation_pairs['Pair'] = correlation_pairs[['Variable1', 'Variable2']].apply(frozenset, axis=1)\n",
    "correlation_pairs = correlation_pairs.drop_duplicates('Pair').drop(columns='Pair')\n",
    "\n",
    "# Сортируем по убыванию корреляции\n",
    "top_10_correlations = correlation_pairs.sort_values(by='Correlation', ascending=False).head(10)\n",
    "\n",
    "# Выводим результат\n",
    "print(top_10_correlations)"
   ]
  },
  {
   "cell_type": "code",
   "execution_count": 7,
   "id": "fe219f47-c1fa-48bc-9734-c0e87e9e3e97",
   "metadata": {},
   "outputs": [],
   "source": [
    "# Сохранение обновленных очищенных данных в CSV файл\n",
    "df.to_csv('cleaned_labirint_dataset.csv', index=False)"
   ]
  },
  {
   "cell_type": "code",
   "execution_count": null,
   "id": "2e4de358-accc-4583-90d7-9223df74368f",
   "metadata": {},
   "outputs": [],
   "source": []
  },
  {
   "cell_type": "code",
   "execution_count": 8,
   "id": "be5aebde-dfc3-47e9-b72c-b01482064ef4",
   "metadata": {},
   "outputs": [
    {
     "data": {
      "text/plain": [
       "Index(['myPrice', 'pages', 'pageType', 'covers', 'rate', 'volume',\n",
       "       'embossing_gold', 'embossing_silver', 'embossing_colored',\n",
       "       'embossing_volume', 'partial_lacquer', 'puffy_cover', 'bookmark_ribbon',\n",
       "       'super_cover', 'edge_trim_gold', 'edge_trim_silver',\n",
       "       'edge_trim_colored', 'slipcase_close', 'slipcase_open', 'stickers',\n",
       "       'puzzles', 'movable_elements', 'volume_panorama', 'toy', 'magnet',\n",
       "       'glitter', 'flocking', 'soft_touch', 'cutouts', 'textile_inserts',\n",
       "       'foreign_language', 'black_white', 'color'],\n",
       "      dtype='object')"
      ]
     },
     "execution_count": 8,
     "metadata": {},
     "output_type": "execute_result"
    }
   ],
   "source": [
    "df.columns"
   ]
  },
  {
   "cell_type": "code",
   "execution_count": 9,
   "id": "3dd0bd31-b7ee-4086-980f-636110b5532e",
   "metadata": {},
   "outputs": [
    {
     "name": "stdout",
     "output_type": "stream",
     "text": [
      "[LightGBM] [Info] Auto-choosing row-wise multi-threading, the overhead of testing was 0.002349 seconds.\n",
      "You can set `force_row_wise=true` to remove the overhead.\n",
      "And if memory is not enough, you can set `force_col_wise=true`.\n",
      "[LightGBM] [Info] Total Bins 587\n",
      "[LightGBM] [Info] Number of data points in the train set: 77732, number of used features: 30\n",
      "[LightGBM] [Info] Start training from score 919.781699\n"
     ]
    },
    {
     "data": {
      "image/png": "[encoded data removed]",
      "text/plain": [
       "<Figure size 1200x800 with 1 Axes>"
      ]
     },
     "metadata": {},
     "output_type": "display_data"
    },
    {
     "name": "stdout",
     "output_type": "stream",
     "text": [
      "              Feature  Importance\n",
      "0               pages         790\n",
      "4              volume         738\n",
      "2              covers         379\n",
      "1            pageType         275\n",
      "29   foreign_language          96\n",
      "31              color          84\n",
      "30        black_white          74\n",
      "9     partial_lacquer          73\n",
      "17      slipcase_open          66\n",
      "11    bookmark_ribbon          61\n",
      "3                rate          59\n",
      "5      embossing_gold          42\n",
      "8    embossing_volume          38\n",
      "13     edge_trim_gold          38\n",
      "12        super_cover          37\n",
      "7   embossing_colored          29\n",
      "15  edge_trim_colored          27\n",
      "6    embossing_silver          23\n",
      "18           stickers          15\n",
      "27            cutouts          14\n",
      "28    textile_inserts          12\n",
      "24            glitter           9\n",
      "10        puffy_cover           8\n",
      "26         soft_touch           4\n",
      "19            puzzles           4\n",
      "20   movable_elements           4\n",
      "21    volume_panorama           1\n",
      "25           flocking           0\n",
      "23             magnet           0\n",
      "22                toy           0\n",
      "14   edge_trim_silver           0\n",
      "16     slipcase_close           0\n"
     ]
    }
   ],
   "source": [
    "import pandas as pd\n",
    "from sklearn.model_selection import train_test_split\n",
    "from lightgbm import LGBMRegressor\n",
    "import matplotlib.pyplot as plt\n",
    "\n",
    "# Загрузка данных\n",
    "df = pd.read_csv('cleaned_labirint_dataset.csv')\n",
    "\n",
    "# Разделение данных на признаки и целевую переменную\n",
    "X = df.drop(columns=['myPrice'])\n",
    "y = df['myPrice']\n",
    "\n",
    "# Разделение на обучающую и тестовую выборку\n",
    "X_train, X_test, y_train, y_test = train_test_split(X, y, test_size=0.2, random_state=42)\n",
    "\n",
    "# Обучение LightGBM\n",
    "model = LGBMRegressor(objective='regression', random_state=42)\n",
    "model.fit(X_train, y_train)\n",
    "\n",
    "# Получение важности признаков\n",
    "feature_importances = model.feature_importances_\n",
    "feature_importance_df = pd.DataFrame({'Feature': X.columns, 'Importance': feature_importances})\n",
    "feature_importance_df = feature_importance_df.sort_values(by='Importance', ascending=False)\n",
    "\n",
    "# Визуализация важности признаков\n",
    "plt.figure(figsize=(12, 8))\n",
    "plt.barh(feature_importance_df['Feature'], feature_importance_df['Importance'])\n",
    "plt.xlabel('Importance')\n",
    "plt.ylabel('Feature')\n",
    "plt.title('Feature Importances from LightGBM')\n",
    "plt.gca().invert_yaxis()\n",
    "plt.show()\n",
    "\n",
    "# Вывод таблицы важности признаков\n",
    "print(feature_importance_df)"
   ]
  },
  {
   "cell_type": "code",
   "execution_count": 10,
   "id": "17931e8b-222c-4cc8-b880-b6c48168cc72",
   "metadata": {},
   "outputs": [],
   "source": [
    "# Фильтрация признаков с Importance > 15\n",
    "selected_features = feature_importance_df[feature_importance_df['Importance'] > 20]['Feature'].tolist()\n",
    "\n",
    "# Добавление целевой переменной\n",
    "selected_features.append('myPrice')\n",
    "\n",
    "# Фильтрация DataFrame\n",
    "df_filtered = df[selected_features]\n",
    "\n",
    "# Сохранение обновленного датасета\n",
    "df_filtered.to_csv('cleaned_labirint_dataset.csv', index=False)"
   ]
  },
  {
   "cell_type": "markdown",
   "id": "67fce84b-4adb-40bb-940b-2bef555aa054",
   "metadata": {},
   "source": [
    "2. Построим модель для предсказания цены"
   ]
  },
  {
   "cell_type": "code",
   "execution_count": 11,
   "id": "28626bf4-73b4-4310-858a-ccf39a713eab",
   "metadata": {
    "scrolled": true
   },
   "outputs": [
    {
     "name": "stdout",
     "output_type": "stream",
     "text": [
      "Using device: cuda\n"
     ]
    },
    {
     "name": "stderr",
     "output_type": "stream",
     "text": [
      "C:\\Anaconda3\\envs\\work\\Lib\\site-packages\\torch\\optim\\lr_scheduler.py:60: UserWarning: The verbose parameter is deprecated. Please use get_last_lr() to access the learning rate.\n",
      "  warnings.warn(\n",
      "C:\\Users\\Мой компьютер\\AppData\\Local\\Temp\\ipykernel_25844\\821018081.py:109: FutureWarning: `torch.cuda.amp.GradScaler(args...)` is deprecated. Please use `torch.amp.GradScaler('cuda', args...)` instead.\n",
      "  scaler = GradScaler()\n"
     ]
    },
    {
     "data": {
      "application/vnd.jupyter.widget-view+json": {
       "model_id": "be2f6a3c71c14f08a0031621173a2c5f",
       "version_major": 2,
       "version_minor": 0
      },
      "text/plain": [
       "Epoch 1:   0%|          | 0/1215 [00:00<?, ?it/s]"
      ]
     },
     "metadata": {},
     "output_type": "display_data"
    },
    {
     "name": "stderr",
     "output_type": "stream",
     "text": [
      "C:\\Users\\Мой компьютер\\AppData\\Local\\Temp\\ipykernel_25844\\821018081.py:127: FutureWarning: `torch.cuda.amp.autocast(args...)` is deprecated. Please use `torch.amp.autocast('cuda', args...)` instead.\n",
      "  with autocast():\n"
     ]
    },
    {
     "name": "stdout",
     "output_type": "stream",
     "text": [
      "Train Loss: 1.1414\n",
      "Validation Loss: 0.3783\n"
     ]
    },
    {
     "data": {
      "application/vnd.jupyter.widget-view+json": {
       "model_id": "0949b14502c142ad9a85802130322613",
       "version_major": 2,
       "version_minor": 0
      },
      "text/plain": [
       "Epoch 2:   0%|          | 0/1215 [00:00<?, ?it/s]"
      ]
     },
     "metadata": {},
     "output_type": "display_data"
    },
    {
     "name": "stdout",
     "output_type": "stream",
     "text": [
      "Train Loss: 0.4694\n",
      "Validation Loss: 0.5213\n"
     ]
    },
    {
     "data": {
      "application/vnd.jupyter.widget-view+json": {
       "model_id": "6b3cb4671e3142d59f34d27924da53bd",
       "version_major": 2,
       "version_minor": 0
      },
      "text/plain": [
       "Epoch 3:   0%|          | 0/1215 [00:00<?, ?it/s]"
      ]
     },
     "metadata": {},
     "output_type": "display_data"
    },
    {
     "name": "stdout",
     "output_type": "stream",
     "text": [
      "Train Loss: 0.4326\n",
      "Validation Loss: 0.3342\n"
     ]
    },
    {
     "data": {
      "application/vnd.jupyter.widget-view+json": {
       "model_id": "49031c408d57437cabfd1de02a04cdff",
       "version_major": 2,
       "version_minor": 0
      },
      "text/plain": [
       "Epoch 4:   0%|          | 0/1215 [00:00<?, ?it/s]"
      ]
     },
     "metadata": {},
     "output_type": "display_data"
    },
    {
     "name": "stdout",
     "output_type": "stream",
     "text": [
      "Train Loss: 0.4048\n",
      "Validation Loss: 0.3605\n"
     ]
    },
    {
     "data": {
      "application/vnd.jupyter.widget-view+json": {
       "model_id": "1476441701f040af8ec97d89841bb1a8",
       "version_major": 2,
       "version_minor": 0
      },
      "text/plain": [
       "Epoch 5:   0%|          | 0/1215 [00:00<?, ?it/s]"
      ]
     },
     "metadata": {},
     "output_type": "display_data"
    },
    {
     "name": "stdout",
     "output_type": "stream",
     "text": [
      "Train Loss: 0.3897\n",
      "Validation Loss: 0.3501\n"
     ]
    },
    {
     "data": {
      "application/vnd.jupyter.widget-view+json": {
       "model_id": "040940089034437c905101ae971aa029",
       "version_major": 2,
       "version_minor": 0
      },
      "text/plain": [
       "Epoch 6:   0%|          | 0/1215 [00:00<?, ?it/s]"
      ]
     },
     "metadata": {},
     "output_type": "display_data"
    },
    {
     "name": "stdout",
     "output_type": "stream",
     "text": [
      "Train Loss: 0.3757\n",
      "Validation Loss: 0.3372\n"
     ]
    },
    {
     "data": {
      "application/vnd.jupyter.widget-view+json": {
       "model_id": "11ef58cb478846ec9420350edbd8147d",
       "version_major": 2,
       "version_minor": 0
      },
      "text/plain": [
       "Epoch 7:   0%|          | 0/1215 [00:00<?, ?it/s]"
      ]
     },
     "metadata": {},
     "output_type": "display_data"
    },
    {
     "name": "stdout",
     "output_type": "stream",
     "text": [
      "Train Loss: 0.3680\n",
      "Validation Loss: 0.3427\n"
     ]
    },
    {
     "data": {
      "application/vnd.jupyter.widget-view+json": {
       "model_id": "003b8ab645304c439bcf1b473be11a86",
       "version_major": 2,
       "version_minor": 0
      },
      "text/plain": [
       "Epoch 8:   0%|          | 0/1215 [00:00<?, ?it/s]"
      ]
     },
     "metadata": {},
     "output_type": "display_data"
    },
    {
     "name": "stdout",
     "output_type": "stream",
     "text": [
      "Train Loss: 0.3581\n",
      "Validation Loss: 0.3146\n"
     ]
    },
    {
     "data": {
      "application/vnd.jupyter.widget-view+json": {
       "model_id": "7a394f75631e44b2915660cc699bd0e5",
       "version_major": 2,
       "version_minor": 0
      },
      "text/plain": [
       "Epoch 9:   0%|          | 0/1215 [00:00<?, ?it/s]"
      ]
     },
     "metadata": {},
     "output_type": "display_data"
    },
    {
     "name": "stdout",
     "output_type": "stream",
     "text": [
      "Train Loss: 0.3553\n",
      "Validation Loss: 0.3118\n"
     ]
    },
    {
     "data": {
      "application/vnd.jupyter.widget-view+json": {
       "model_id": "120882b2eadf42deb5aed9c118b9a27a",
       "version_major": 2,
       "version_minor": 0
      },
      "text/plain": [
       "Epoch 10:   0%|          | 0/1215 [00:00<?, ?it/s]"
      ]
     },
     "metadata": {},
     "output_type": "display_data"
    },
    {
     "name": "stdout",
     "output_type": "stream",
     "text": [
      "Train Loss: 0.3504\n",
      "Validation Loss: 0.3129\n"
     ]
    },
    {
     "data": {
      "application/vnd.jupyter.widget-view+json": {
       "model_id": "0452430810dd446a95c7cc9c1525d0b9",
       "version_major": 2,
       "version_minor": 0
      },
      "text/plain": [
       "Epoch 11:   0%|          | 0/1215 [00:00<?, ?it/s]"
      ]
     },
     "metadata": {},
     "output_type": "display_data"
    },
    {
     "name": "stdout",
     "output_type": "stream",
     "text": [
      "Train Loss: 0.3473\n",
      "Validation Loss: 0.3265\n"
     ]
    },
    {
     "data": {
      "application/vnd.jupyter.widget-view+json": {
       "model_id": "80306308693548a38591fc4744314061",
       "version_major": 2,
       "version_minor": 0
      },
      "text/plain": [
       "Epoch 12:   0%|          | 0/1215 [00:00<?, ?it/s]"
      ]
     },
     "metadata": {},
     "output_type": "display_data"
    },
    {
     "name": "stdout",
     "output_type": "stream",
     "text": [
      "Train Loss: 0.3428\n",
      "Validation Loss: 0.3189\n"
     ]
    },
    {
     "data": {
      "application/vnd.jupyter.widget-view+json": {
       "model_id": "ea13cf282645448a8430dca7b325b0d6",
       "version_major": 2,
       "version_minor": 0
      },
      "text/plain": [
       "Epoch 13:   0%|          | 0/1215 [00:00<?, ?it/s]"
      ]
     },
     "metadata": {},
     "output_type": "display_data"
    },
    {
     "name": "stdout",
     "output_type": "stream",
     "text": [
      "Train Loss: 0.3393\n",
      "Validation Loss: 0.3155\n"
     ]
    },
    {
     "data": {
      "application/vnd.jupyter.widget-view+json": {
       "model_id": "f72364f4cdb84894abb711c74c0c23a5",
       "version_major": 2,
       "version_minor": 0
      },
      "text/plain": [
       "Epoch 14:   0%|          | 0/1215 [00:00<?, ?it/s]"
      ]
     },
     "metadata": {},
     "output_type": "display_data"
    },
    {
     "name": "stdout",
     "output_type": "stream",
     "text": [
      "Train Loss: 0.3377\n",
      "Validation Loss: 0.3347\n"
     ]
    },
    {
     "data": {
      "application/vnd.jupyter.widget-view+json": {
       "model_id": "52b4561ec3e94c40ac020a44104c1065",
       "version_major": 2,
       "version_minor": 0
      },
      "text/plain": [
       "Epoch 15:   0%|          | 0/1215 [00:00<?, ?it/s]"
      ]
     },
     "metadata": {},
     "output_type": "display_data"
    },
    {
     "name": "stdout",
     "output_type": "stream",
     "text": [
      "Train Loss: 0.3353\n",
      "Validation Loss: 0.3396\n"
     ]
    },
    {
     "data": {
      "application/vnd.jupyter.widget-view+json": {
       "model_id": "2a16da2099394fc180bf3040535c1e6b",
       "version_major": 2,
       "version_minor": 0
      },
      "text/plain": [
       "Epoch 16:   0%|          | 0/1215 [00:00<?, ?it/s]"
      ]
     },
     "metadata": {},
     "output_type": "display_data"
    },
    {
     "name": "stdout",
     "output_type": "stream",
     "text": [
      "Train Loss: 0.3307\n",
      "Validation Loss: 0.3100\n"
     ]
    },
    {
     "data": {
      "application/vnd.jupyter.widget-view+json": {
       "model_id": "09046e05683f4419927a10b3e225e561",
       "version_major": 2,
       "version_minor": 0
      },
      "text/plain": [
       "Epoch 17:   0%|          | 0/1215 [00:00<?, ?it/s]"
      ]
     },
     "metadata": {},
     "output_type": "display_data"
    },
    {
     "name": "stdout",
     "output_type": "stream",
     "text": [
      "Train Loss: 0.3249\n",
      "Validation Loss: 0.3201\n"
     ]
    },
    {
     "data": {
      "application/vnd.jupyter.widget-view+json": {
       "model_id": "8dae8745c362415d9127e8cad8d70bd5",
       "version_major": 2,
       "version_minor": 0
      },
      "text/plain": [
       "Epoch 18:   0%|          | 0/1215 [00:00<?, ?it/s]"
      ]
     },
     "metadata": {},
     "output_type": "display_data"
    },
    {
     "name": "stdout",
     "output_type": "stream",
     "text": [
      "Train Loss: 0.3243\n",
      "Validation Loss: 0.3151\n"
     ]
    },
    {
     "data": {
      "application/vnd.jupyter.widget-view+json": {
       "model_id": "f670517827914dbcaa799b89c158722d",
       "version_major": 2,
       "version_minor": 0
      },
      "text/plain": [
       "Epoch 19:   0%|          | 0/1215 [00:00<?, ?it/s]"
      ]
     },
     "metadata": {},
     "output_type": "display_data"
    },
    {
     "name": "stdout",
     "output_type": "stream",
     "text": [
      "Train Loss: 0.3246\n",
      "Validation Loss: 0.3278\n"
     ]
    },
    {
     "data": {
      "application/vnd.jupyter.widget-view+json": {
       "model_id": "147fa074b0e344fab2e0908bcc73a008",
       "version_major": 2,
       "version_minor": 0
      },
      "text/plain": [
       "Epoch 20:   0%|          | 0/1215 [00:00<?, ?it/s]"
      ]
     },
     "metadata": {},
     "output_type": "display_data"
    },
    {
     "name": "stdout",
     "output_type": "stream",
     "text": [
      "Train Loss: 0.3230\n",
      "Validation Loss: 0.3070\n"
     ]
    },
    {
     "data": {
      "application/vnd.jupyter.widget-view+json": {
       "model_id": "5ddd2a8facfc4c6484c3869a3b03d50f",
       "version_major": 2,
       "version_minor": 0
      },
      "text/plain": [
       "Epoch 21:   0%|          | 0/1215 [00:00<?, ?it/s]"
      ]
     },
     "metadata": {},
     "output_type": "display_data"
    },
    {
     "name": "stdout",
     "output_type": "stream",
     "text": [
      "Train Loss: 0.3215\n",
      "Validation Loss: 0.3026\n"
     ]
    },
    {
     "data": {
      "application/vnd.jupyter.widget-view+json": {
       "model_id": "be06bdfb5df94df5adbd7075eaf8c647",
       "version_major": 2,
       "version_minor": 0
      },
      "text/plain": [
       "Epoch 22:   0%|          | 0/1215 [00:00<?, ?it/s]"
      ]
     },
     "metadata": {},
     "output_type": "display_data"
    },
    {
     "name": "stdout",
     "output_type": "stream",
     "text": [
      "Train Loss: 0.3207\n",
      "Validation Loss: 0.3103\n"
     ]
    },
    {
     "data": {
      "application/vnd.jupyter.widget-view+json": {
       "model_id": "053175f9815e4df0bc9ae907fb268e6e",
       "version_major": 2,
       "version_minor": 0
      },
      "text/plain": [
       "Epoch 23:   0%|          | 0/1215 [00:00<?, ?it/s]"
      ]
     },
     "metadata": {},
     "output_type": "display_data"
    },
    {
     "name": "stdout",
     "output_type": "stream",
     "text": [
      "Train Loss: 0.3209\n",
      "Validation Loss: 0.3125\n"
     ]
    },
    {
     "data": {
      "application/vnd.jupyter.widget-view+json": {
       "model_id": "9afded1f41b24b53b9d93b7c89d57c6b",
       "version_major": 2,
       "version_minor": 0
      },
      "text/plain": [
       "Epoch 24:   0%|          | 0/1215 [00:00<?, ?it/s]"
      ]
     },
     "metadata": {},
     "output_type": "display_data"
    },
    {
     "name": "stdout",
     "output_type": "stream",
     "text": [
      "Train Loss: 0.3171\n",
      "Validation Loss: 0.3055\n"
     ]
    },
    {
     "data": {
      "application/vnd.jupyter.widget-view+json": {
       "model_id": "ab228f8e45214c62a061c5cc0c824989",
       "version_major": 2,
       "version_minor": 0
      },
      "text/plain": [
       "Epoch 25:   0%|          | 0/1215 [00:00<?, ?it/s]"
      ]
     },
     "metadata": {},
     "output_type": "display_data"
    },
    {
     "name": "stdout",
     "output_type": "stream",
     "text": [
      "Train Loss: 0.3167\n",
      "Validation Loss: 0.3015\n"
     ]
    },
    {
     "data": {
      "application/vnd.jupyter.widget-view+json": {
       "model_id": "2938e6d403bd409f9292df404a06d33e",
       "version_major": 2,
       "version_minor": 0
      },
      "text/plain": [
       "Epoch 26:   0%|          | 0/1215 [00:00<?, ?it/s]"
      ]
     },
     "metadata": {},
     "output_type": "display_data"
    },
    {
     "name": "stdout",
     "output_type": "stream",
     "text": [
      "Train Loss: 0.3173\n",
      "Validation Loss: 0.3450\n"
     ]
    },
    {
     "data": {
      "application/vnd.jupyter.widget-view+json": {
       "model_id": "932ec25bfe05484aaed474a54f3d5388",
       "version_major": 2,
       "version_minor": 0
      },
      "text/plain": [
       "Epoch 27:   0%|          | 0/1215 [00:00<?, ?it/s]"
      ]
     },
     "metadata": {},
     "output_type": "display_data"
    },
    {
     "name": "stdout",
     "output_type": "stream",
     "text": [
      "Train Loss: 0.3170\n",
      "Validation Loss: 0.3008\n"
     ]
    },
    {
     "data": {
      "application/vnd.jupyter.widget-view+json": {
       "model_id": "4f987a0285b94904b615240b6072a900",
       "version_major": 2,
       "version_minor": 0
      },
      "text/plain": [
       "Epoch 28:   0%|          | 0/1215 [00:00<?, ?it/s]"
      ]
     },
     "metadata": {},
     "output_type": "display_data"
    },
    {
     "name": "stdout",
     "output_type": "stream",
     "text": [
      "Train Loss: 0.3163\n",
      "Validation Loss: 0.3022\n"
     ]
    },
    {
     "data": {
      "application/vnd.jupyter.widget-view+json": {
       "model_id": "22a49a43de55409794756c7b73943838",
       "version_major": 2,
       "version_minor": 0
      },
      "text/plain": [
       "Epoch 29:   0%|          | 0/1215 [00:00<?, ?it/s]"
      ]
     },
     "metadata": {},
     "output_type": "display_data"
    },
    {
     "name": "stdout",
     "output_type": "stream",
     "text": [
      "Train Loss: 0.3146\n",
      "Validation Loss: 0.3011\n"
     ]
    },
    {
     "data": {
      "application/vnd.jupyter.widget-view+json": {
       "model_id": "e2387652fa0645fc97acc34f8c5033d5",
       "version_major": 2,
       "version_minor": 0
      },
      "text/plain": [
       "Epoch 30:   0%|          | 0/1215 [00:00<?, ?it/s]"
      ]
     },
     "metadata": {},
     "output_type": "display_data"
    },
    {
     "name": "stdout",
     "output_type": "stream",
     "text": [
      "Train Loss: 0.3150\n",
      "Validation Loss: 0.3060\n"
     ]
    },
    {
     "data": {
      "application/vnd.jupyter.widget-view+json": {
       "model_id": "89b243f83ce5448084330ca1e2793793",
       "version_major": 2,
       "version_minor": 0
      },
      "text/plain": [
       "Epoch 31:   0%|          | 0/1215 [00:00<?, ?it/s]"
      ]
     },
     "metadata": {},
     "output_type": "display_data"
    },
    {
     "name": "stdout",
     "output_type": "stream",
     "text": [
      "Train Loss: 0.3131\n",
      "Validation Loss: 0.3068\n"
     ]
    },
    {
     "data": {
      "application/vnd.jupyter.widget-view+json": {
       "model_id": "8fffdf44cd0d4bbaa5522a4130610b3a",
       "version_major": 2,
       "version_minor": 0
      },
      "text/plain": [
       "Epoch 32:   0%|          | 0/1215 [00:00<?, ?it/s]"
      ]
     },
     "metadata": {},
     "output_type": "display_data"
    },
    {
     "name": "stdout",
     "output_type": "stream",
     "text": [
      "Train Loss: 0.3109\n",
      "Validation Loss: 0.2981\n"
     ]
    },
    {
     "data": {
      "application/vnd.jupyter.widget-view+json": {
       "model_id": "3a8ad97550b74959ae8a4ed4991573b0",
       "version_major": 2,
       "version_minor": 0
      },
      "text/plain": [
       "Epoch 33:   0%|          | 0/1215 [00:00<?, ?it/s]"
      ]
     },
     "metadata": {},
     "output_type": "display_data"
    },
    {
     "name": "stdout",
     "output_type": "stream",
     "text": [
      "Train Loss: 0.3128\n",
      "Validation Loss: 0.2984\n"
     ]
    },
    {
     "data": {
      "application/vnd.jupyter.widget-view+json": {
       "model_id": "4f083ac1765d4a48ba3a7fa53c8e0769",
       "version_major": 2,
       "version_minor": 0
      },
      "text/plain": [
       "Epoch 34:   0%|          | 0/1215 [00:00<?, ?it/s]"
      ]
     },
     "metadata": {},
     "output_type": "display_data"
    },
    {
     "name": "stdout",
     "output_type": "stream",
     "text": [
      "Train Loss: 0.3111\n",
      "Validation Loss: 0.3022\n"
     ]
    },
    {
     "data": {
      "application/vnd.jupyter.widget-view+json": {
       "model_id": "822c153b49d340e3b2ed23fc2e88de55",
       "version_major": 2,
       "version_minor": 0
      },
      "text/plain": [
       "Epoch 35:   0%|          | 0/1215 [00:00<?, ?it/s]"
      ]
     },
     "metadata": {},
     "output_type": "display_data"
    },
    {
     "name": "stdout",
     "output_type": "stream",
     "text": [
      "Train Loss: 0.3108\n",
      "Validation Loss: 0.3012\n"
     ]
    },
    {
     "data": {
      "application/vnd.jupyter.widget-view+json": {
       "model_id": "112a38ae61fd417a82b40e64b98f5ad1",
       "version_major": 2,
       "version_minor": 0
      },
      "text/plain": [
       "Epoch 36:   0%|          | 0/1215 [00:00<?, ?it/s]"
      ]
     },
     "metadata": {},
     "output_type": "display_data"
    },
    {
     "name": "stdout",
     "output_type": "stream",
     "text": [
      "Train Loss: 0.3093\n",
      "Validation Loss: 0.2994\n"
     ]
    },
    {
     "data": {
      "application/vnd.jupyter.widget-view+json": {
       "model_id": "43bb511df3ed4aeaa2a574e45005624a",
       "version_major": 2,
       "version_minor": 0
      },
      "text/plain": [
       "Epoch 37:   0%|          | 0/1215 [00:00<?, ?it/s]"
      ]
     },
     "metadata": {},
     "output_type": "display_data"
    },
    {
     "name": "stdout",
     "output_type": "stream",
     "text": [
      "Train Loss: 0.3088\n",
      "Validation Loss: 0.2957\n"
     ]
    },
    {
     "data": {
      "application/vnd.jupyter.widget-view+json": {
       "model_id": "ddaafecf069641ffb2cfa4d394fe38bb",
       "version_major": 2,
       "version_minor": 0
      },
      "text/plain": [
       "Epoch 38:   0%|          | 0/1215 [00:00<?, ?it/s]"
      ]
     },
     "metadata": {},
     "output_type": "display_data"
    },
    {
     "name": "stdout",
     "output_type": "stream",
     "text": [
      "Train Loss: 0.3092\n",
      "Validation Loss: 0.2976\n"
     ]
    },
    {
     "data": {
      "application/vnd.jupyter.widget-view+json": {
       "model_id": "e52dd20bd9aa4fed82e0e2caaa056981",
       "version_major": 2,
       "version_minor": 0
      },
      "text/plain": [
       "Epoch 39:   0%|          | 0/1215 [00:00<?, ?it/s]"
      ]
     },
     "metadata": {},
     "output_type": "display_data"
    },
    {
     "name": "stdout",
     "output_type": "stream",
     "text": [
      "Train Loss: 0.3070\n",
      "Validation Loss: 0.2958\n"
     ]
    },
    {
     "data": {
      "application/vnd.jupyter.widget-view+json": {
       "model_id": "af93a013a97841fc8fb2179cc61368a8",
       "version_major": 2,
       "version_minor": 0
      },
      "text/plain": [
       "Epoch 40:   0%|          | 0/1215 [00:00<?, ?it/s]"
      ]
     },
     "metadata": {},
     "output_type": "display_data"
    },
    {
     "name": "stdout",
     "output_type": "stream",
     "text": [
      "Train Loss: 0.3084\n",
      "Validation Loss: 0.3032\n"
     ]
    },
    {
     "data": {
      "application/vnd.jupyter.widget-view+json": {
       "model_id": "fd0fa25c5bd1448cbcd15897d51b8828",
       "version_major": 2,
       "version_minor": 0
      },
      "text/plain": [
       "Epoch 41:   0%|          | 0/1215 [00:00<?, ?it/s]"
      ]
     },
     "metadata": {},
     "output_type": "display_data"
    },
    {
     "name": "stdout",
     "output_type": "stream",
     "text": [
      "Train Loss: 0.3075\n",
      "Validation Loss: 0.2989\n"
     ]
    },
    {
     "data": {
      "application/vnd.jupyter.widget-view+json": {
       "model_id": "0fe8f17edf3f4e168302b844354d4766",
       "version_major": 2,
       "version_minor": 0
      },
      "text/plain": [
       "Epoch 42:   0%|          | 0/1215 [00:00<?, ?it/s]"
      ]
     },
     "metadata": {},
     "output_type": "display_data"
    },
    {
     "name": "stdout",
     "output_type": "stream",
     "text": [
      "Train Loss: 0.3077\n",
      "Validation Loss: 0.2955\n"
     ]
    },
    {
     "data": {
      "application/vnd.jupyter.widget-view+json": {
       "model_id": "d9d4681283fa494993d3522ecd8484db",
       "version_major": 2,
       "version_minor": 0
      },
      "text/plain": [
       "Epoch 43:   0%|          | 0/1215 [00:00<?, ?it/s]"
      ]
     },
     "metadata": {},
     "output_type": "display_data"
    },
    {
     "name": "stdout",
     "output_type": "stream",
     "text": [
      "Train Loss: 0.3072\n",
      "Validation Loss: 0.3032\n"
     ]
    },
    {
     "data": {
      "application/vnd.jupyter.widget-view+json": {
       "model_id": "d4a19ecc73d442dfa5f6b7efdb64da58",
       "version_major": 2,
       "version_minor": 0
      },
      "text/plain": [
       "Epoch 44:   0%|          | 0/1215 [00:00<?, ?it/s]"
      ]
     },
     "metadata": {},
     "output_type": "display_data"
    },
    {
     "name": "stdout",
     "output_type": "stream",
     "text": [
      "Train Loss: 0.3067\n",
      "Validation Loss: 0.2995\n"
     ]
    },
    {
     "data": {
      "application/vnd.jupyter.widget-view+json": {
       "model_id": "1ace83c6a243408c847dea584e73c923",
       "version_major": 2,
       "version_minor": 0
      },
      "text/plain": [
       "Epoch 45:   0%|          | 0/1215 [00:00<?, ?it/s]"
      ]
     },
     "metadata": {},
     "output_type": "display_data"
    },
    {
     "name": "stdout",
     "output_type": "stream",
     "text": [
      "Train Loss: 0.3061\n",
      "Validation Loss: 0.2943\n"
     ]
    },
    {
     "data": {
      "application/vnd.jupyter.widget-view+json": {
       "model_id": "451f46722c594da08c04c4ea21a5570f",
       "version_major": 2,
       "version_minor": 0
      },
      "text/plain": [
       "Epoch 46:   0%|          | 0/1215 [00:00<?, ?it/s]"
      ]
     },
     "metadata": {},
     "output_type": "display_data"
    },
    {
     "name": "stdout",
     "output_type": "stream",
     "text": [
      "Train Loss: 0.3051\n",
      "Validation Loss: 0.2983\n"
     ]
    },
    {
     "data": {
      "application/vnd.jupyter.widget-view+json": {
       "model_id": "2f223fa68ade4a739d916a3f64d7b09c",
       "version_major": 2,
       "version_minor": 0
      },
      "text/plain": [
       "Epoch 47:   0%|          | 0/1215 [00:00<?, ?it/s]"
      ]
     },
     "metadata": {},
     "output_type": "display_data"
    },
    {
     "name": "stdout",
     "output_type": "stream",
     "text": [
      "Train Loss: 0.3043\n",
      "Validation Loss: 0.2956\n"
     ]
    },
    {
     "data": {
      "application/vnd.jupyter.widget-view+json": {
       "model_id": "2069bb514e914f8b82813c2c35a6eacf",
       "version_major": 2,
       "version_minor": 0
      },
      "text/plain": [
       "Epoch 48:   0%|          | 0/1215 [00:00<?, ?it/s]"
      ]
     },
     "metadata": {},
     "output_type": "display_data"
    },
    {
     "name": "stdout",
     "output_type": "stream",
     "text": [
      "Train Loss: 0.3047\n",
      "Validation Loss: 0.2968\n"
     ]
    },
    {
     "data": {
      "application/vnd.jupyter.widget-view+json": {
       "model_id": "bb69b3450c0a46b9b36f49214ff6dfa5",
       "version_major": 2,
       "version_minor": 0
      },
      "text/plain": [
       "Epoch 49:   0%|          | 0/1215 [00:00<?, ?it/s]"
      ]
     },
     "metadata": {},
     "output_type": "display_data"
    },
    {
     "name": "stdout",
     "output_type": "stream",
     "text": [
      "Train Loss: 0.3026\n",
      "Validation Loss: 0.2934\n"
     ]
    },
    {
     "data": {
      "application/vnd.jupyter.widget-view+json": {
       "model_id": "26e5da0da9904b11b8c7caa9ed40351a",
       "version_major": 2,
       "version_minor": 0
      },
      "text/plain": [
       "Epoch 50:   0%|          | 0/1215 [00:00<?, ?it/s]"
      ]
     },
     "metadata": {},
     "output_type": "display_data"
    },
    {
     "name": "stdout",
     "output_type": "stream",
     "text": [
      "Train Loss: 0.3033\n",
      "Validation Loss: 0.3002\n"
     ]
    },
    {
     "data": {
      "application/vnd.jupyter.widget-view+json": {
       "model_id": "d33ba19cba2a4c71ba2d196ff82a7c95",
       "version_major": 2,
       "version_minor": 0
      },
      "text/plain": [
       "Epoch 51:   0%|          | 0/1215 [00:00<?, ?it/s]"
      ]
     },
     "metadata": {},
     "output_type": "display_data"
    },
    {
     "name": "stdout",
     "output_type": "stream",
     "text": [
      "Train Loss: 0.3026\n",
      "Validation Loss: 0.2962\n"
     ]
    },
    {
     "data": {
      "application/vnd.jupyter.widget-view+json": {
       "model_id": "65f83d88cd674649adaf169c1c5dd407",
       "version_major": 2,
       "version_minor": 0
      },
      "text/plain": [
       "Epoch 52:   0%|          | 0/1215 [00:00<?, ?it/s]"
      ]
     },
     "metadata": {},
     "output_type": "display_data"
    },
    {
     "name": "stdout",
     "output_type": "stream",
     "text": [
      "Train Loss: 0.3021\n",
      "Validation Loss: 0.2941\n"
     ]
    },
    {
     "data": {
      "application/vnd.jupyter.widget-view+json": {
       "model_id": "e706d0ce01a142ddb4b60c0309b4bebb",
       "version_major": 2,
       "version_minor": 0
      },
      "text/plain": [
       "Epoch 53:   0%|          | 0/1215 [00:00<?, ?it/s]"
      ]
     },
     "metadata": {},
     "output_type": "display_data"
    },
    {
     "name": "stdout",
     "output_type": "stream",
     "text": [
      "Train Loss: 0.3021\n",
      "Validation Loss: 0.2937\n"
     ]
    },
    {
     "data": {
      "application/vnd.jupyter.widget-view+json": {
       "model_id": "b9b23566f23e4c35a6c5c57986cca1fc",
       "version_major": 2,
       "version_minor": 0
      },
      "text/plain": [
       "Epoch 54:   0%|          | 0/1215 [00:00<?, ?it/s]"
      ]
     },
     "metadata": {},
     "output_type": "display_data"
    },
    {
     "name": "stdout",
     "output_type": "stream",
     "text": [
      "Train Loss: 0.3013\n",
      "Validation Loss: 0.2963\n"
     ]
    },
    {
     "data": {
      "application/vnd.jupyter.widget-view+json": {
       "model_id": "b1bfa23417e446d8adcdea961c405267",
       "version_major": 2,
       "version_minor": 0
      },
      "text/plain": [
       "Epoch 55:   0%|          | 0/1215 [00:00<?, ?it/s]"
      ]
     },
     "metadata": {},
     "output_type": "display_data"
    },
    {
     "name": "stdout",
     "output_type": "stream",
     "text": [
      "Train Loss: 0.3017\n",
      "Validation Loss: 0.3287\n"
     ]
    },
    {
     "data": {
      "application/vnd.jupyter.widget-view+json": {
       "model_id": "df42be65e086418cbfe3d7fee1fe86d2",
       "version_major": 2,
       "version_minor": 0
      },
      "text/plain": [
       "Epoch 56:   0%|          | 0/1215 [00:00<?, ?it/s]"
      ]
     },
     "metadata": {},
     "output_type": "display_data"
    },
    {
     "name": "stdout",
     "output_type": "stream",
     "text": [
      "Train Loss: 0.2993\n",
      "Validation Loss: 0.2979\n"
     ]
    },
    {
     "data": {
      "application/vnd.jupyter.widget-view+json": {
       "model_id": "0beb49d9b08d4ffe97434a071b486b76",
       "version_major": 2,
       "version_minor": 0
      },
      "text/plain": [
       "Epoch 57:   0%|          | 0/1215 [00:00<?, ?it/s]"
      ]
     },
     "metadata": {},
     "output_type": "display_data"
    },
    {
     "name": "stdout",
     "output_type": "stream",
     "text": [
      "Train Loss: 0.2985\n",
      "Validation Loss: 0.2907\n"
     ]
    },
    {
     "data": {
      "application/vnd.jupyter.widget-view+json": {
       "model_id": "16fbbd94cedb4ac8a470bfc367512276",
       "version_major": 2,
       "version_minor": 0
      },
      "text/plain": [
       "Epoch 58:   0%|          | 0/1215 [00:00<?, ?it/s]"
      ]
     },
     "metadata": {},
     "output_type": "display_data"
    },
    {
     "name": "stdout",
     "output_type": "stream",
     "text": [
      "Train Loss: 0.2974\n",
      "Validation Loss: 0.2963\n"
     ]
    },
    {
     "data": {
      "application/vnd.jupyter.widget-view+json": {
       "model_id": "ee790e9d18754b5480331d5ea1cb2af1",
       "version_major": 2,
       "version_minor": 0
      },
      "text/plain": [
       "Epoch 59:   0%|          | 0/1215 [00:00<?, ?it/s]"
      ]
     },
     "metadata": {},
     "output_type": "display_data"
    },
    {
     "name": "stdout",
     "output_type": "stream",
     "text": [
      "Train Loss: 0.2968\n",
      "Validation Loss: 0.2910\n"
     ]
    },
    {
     "data": {
      "application/vnd.jupyter.widget-view+json": {
       "model_id": "7bfbb50d542a410bb2db073626677b28",
       "version_major": 2,
       "version_minor": 0
      },
      "text/plain": [
       "Epoch 60:   0%|          | 0/1215 [00:00<?, ?it/s]"
      ]
     },
     "metadata": {},
     "output_type": "display_data"
    },
    {
     "name": "stdout",
     "output_type": "stream",
     "text": [
      "Train Loss: 0.2970\n",
      "Validation Loss: 0.2920\n"
     ]
    },
    {
     "data": {
      "application/vnd.jupyter.widget-view+json": {
       "model_id": "2f9721310da04bdcabe40437fd1e9ceb",
       "version_major": 2,
       "version_minor": 0
      },
      "text/plain": [
       "Epoch 61:   0%|          | 0/1215 [00:00<?, ?it/s]"
      ]
     },
     "metadata": {},
     "output_type": "display_data"
    },
    {
     "name": "stdout",
     "output_type": "stream",
     "text": [
      "Train Loss: 0.2968\n",
      "Validation Loss: 0.2909\n"
     ]
    },
    {
     "data": {
      "application/vnd.jupyter.widget-view+json": {
       "model_id": "60aa16c927664ef48fbf37a45924823c",
       "version_major": 2,
       "version_minor": 0
      },
      "text/plain": [
       "Epoch 62:   0%|          | 0/1215 [00:00<?, ?it/s]"
      ]
     },
     "metadata": {},
     "output_type": "display_data"
    },
    {
     "name": "stdout",
     "output_type": "stream",
     "text": [
      "Train Loss: 0.2963\n",
      "Validation Loss: 0.2917\n"
     ]
    },
    {
     "data": {
      "application/vnd.jupyter.widget-view+json": {
       "model_id": "0236e425d2504374bfe7acfb69db2c2e",
       "version_major": 2,
       "version_minor": 0
      },
      "text/plain": [
       "Epoch 63:   0%|          | 0/1215 [00:00<?, ?it/s]"
      ]
     },
     "metadata": {},
     "output_type": "display_data"
    },
    {
     "name": "stdout",
     "output_type": "stream",
     "text": [
      "Train Loss: 0.2970\n",
      "Validation Loss: 0.2893\n"
     ]
    },
    {
     "data": {
      "application/vnd.jupyter.widget-view+json": {
       "model_id": "f57e507d38d24becbcf45c280e3ffca2",
       "version_major": 2,
       "version_minor": 0
      },
      "text/plain": [
       "Epoch 64:   0%|          | 0/1215 [00:00<?, ?it/s]"
      ]
     },
     "metadata": {},
     "output_type": "display_data"
    },
    {
     "name": "stdout",
     "output_type": "stream",
     "text": [
      "Train Loss: 0.2971\n",
      "Validation Loss: 0.3029\n"
     ]
    },
    {
     "data": {
      "application/vnd.jupyter.widget-view+json": {
       "model_id": "2942c08c640a4b5d8eadb1ef73075945",
       "version_major": 2,
       "version_minor": 0
      },
      "text/plain": [
       "Epoch 65:   0%|          | 0/1215 [00:00<?, ?it/s]"
      ]
     },
     "metadata": {},
     "output_type": "display_data"
    },
    {
     "name": "stdout",
     "output_type": "stream",
     "text": [
      "Train Loss: 0.2956\n",
      "Validation Loss: 0.2926\n"
     ]
    },
    {
     "data": {
      "application/vnd.jupyter.widget-view+json": {
       "model_id": "eb945f56decb41ba8b49935dd63e11c6",
       "version_major": 2,
       "version_minor": 0
      },
      "text/plain": [
       "Epoch 66:   0%|          | 0/1215 [00:00<?, ?it/s]"
      ]
     },
     "metadata": {},
     "output_type": "display_data"
    },
    {
     "name": "stdout",
     "output_type": "stream",
     "text": [
      "Train Loss: 0.2968\n",
      "Validation Loss: 0.2906\n"
     ]
    },
    {
     "data": {
      "application/vnd.jupyter.widget-view+json": {
       "model_id": "a591ca5638e445609dbadacdd0ff96df",
       "version_major": 2,
       "version_minor": 0
      },
      "text/plain": [
       "Epoch 67:   0%|          | 0/1215 [00:00<?, ?it/s]"
      ]
     },
     "metadata": {},
     "output_type": "display_data"
    },
    {
     "name": "stdout",
     "output_type": "stream",
     "text": [
      "Train Loss: 0.2946\n",
      "Validation Loss: 0.2931\n"
     ]
    },
    {
     "data": {
      "application/vnd.jupyter.widget-view+json": {
       "model_id": "20815eb5de424f6d83bd9aa6b659f2bb",
       "version_major": 2,
       "version_minor": 0
      },
      "text/plain": [
       "Epoch 68:   0%|          | 0/1215 [00:00<?, ?it/s]"
      ]
     },
     "metadata": {},
     "output_type": "display_data"
    },
    {
     "name": "stdout",
     "output_type": "stream",
     "text": [
      "Train Loss: 0.2953\n",
      "Validation Loss: 0.2902\n"
     ]
    },
    {
     "data": {
      "application/vnd.jupyter.widget-view+json": {
       "model_id": "4d9f0303502b4283b4a452a47fc08ef6",
       "version_major": 2,
       "version_minor": 0
      },
      "text/plain": [
       "Epoch 69:   0%|          | 0/1215 [00:00<?, ?it/s]"
      ]
     },
     "metadata": {},
     "output_type": "display_data"
    },
    {
     "name": "stdout",
     "output_type": "stream",
     "text": [
      "Train Loss: 0.2948\n",
      "Validation Loss: 0.2889\n"
     ]
    },
    {
     "data": {
      "application/vnd.jupyter.widget-view+json": {
       "model_id": "4ebe16f6933c450e9b60a949aaecd9f3",
       "version_major": 2,
       "version_minor": 0
      },
      "text/plain": [
       "Epoch 70:   0%|          | 0/1215 [00:00<?, ?it/s]"
      ]
     },
     "metadata": {},
     "output_type": "display_data"
    },
    {
     "name": "stdout",
     "output_type": "stream",
     "text": [
      "Train Loss: 0.2955\n",
      "Validation Loss: 0.2912\n"
     ]
    },
    {
     "data": {
      "application/vnd.jupyter.widget-view+json": {
       "model_id": "2fc7892f57f04c4ebd3ffe99f95b941c",
       "version_major": 2,
       "version_minor": 0
      },
      "text/plain": [
       "Epoch 71:   0%|          | 0/1215 [00:00<?, ?it/s]"
      ]
     },
     "metadata": {},
     "output_type": "display_data"
    },
    {
     "name": "stdout",
     "output_type": "stream",
     "text": [
      "Train Loss: 0.2955\n",
      "Validation Loss: 0.2930\n"
     ]
    },
    {
     "data": {
      "application/vnd.jupyter.widget-view+json": {
       "model_id": "8e772f28da6b4ca9a65fa0aad2292d49",
       "version_major": 2,
       "version_minor": 0
      },
      "text/plain": [
       "Epoch 72:   0%|          | 0/1215 [00:00<?, ?it/s]"
      ]
     },
     "metadata": {},
     "output_type": "display_data"
    },
    {
     "name": "stdout",
     "output_type": "stream",
     "text": [
      "Train Loss: 0.2948\n",
      "Validation Loss: 0.2940\n"
     ]
    },
    {
     "data": {
      "application/vnd.jupyter.widget-view+json": {
       "model_id": "14b45351261d4e44bb7ec6555508e76c",
       "version_major": 2,
       "version_minor": 0
      },
      "text/plain": [
       "Epoch 73:   0%|          | 0/1215 [00:00<?, ?it/s]"
      ]
     },
     "metadata": {},
     "output_type": "display_data"
    },
    {
     "name": "stdout",
     "output_type": "stream",
     "text": [
      "Train Loss: 0.2939\n",
      "Validation Loss: 0.2978\n"
     ]
    },
    {
     "data": {
      "application/vnd.jupyter.widget-view+json": {
       "model_id": "1512093581a84b3ba5a23f2985ea4511",
       "version_major": 2,
       "version_minor": 0
      },
      "text/plain": [
       "Epoch 74:   0%|          | 0/1215 [00:00<?, ?it/s]"
      ]
     },
     "metadata": {},
     "output_type": "display_data"
    },
    {
     "name": "stdout",
     "output_type": "stream",
     "text": [
      "Train Loss: 0.2942\n",
      "Validation Loss: 0.2906\n"
     ]
    },
    {
     "data": {
      "application/vnd.jupyter.widget-view+json": {
       "model_id": "edcc4969dcfe474089d616ea2a3c6a05",
       "version_major": 2,
       "version_minor": 0
      },
      "text/plain": [
       "Epoch 75:   0%|          | 0/1215 [00:00<?, ?it/s]"
      ]
     },
     "metadata": {},
     "output_type": "display_data"
    },
    {
     "name": "stdout",
     "output_type": "stream",
     "text": [
      "Train Loss: 0.2944\n",
      "Validation Loss: 0.2889\n"
     ]
    },
    {
     "data": {
      "application/vnd.jupyter.widget-view+json": {
       "model_id": "adae473616484e0397d0c721a5fb62b1",
       "version_major": 2,
       "version_minor": 0
      },
      "text/plain": [
       "Epoch 76:   0%|          | 0/1215 [00:00<?, ?it/s]"
      ]
     },
     "metadata": {},
     "output_type": "display_data"
    },
    {
     "name": "stdout",
     "output_type": "stream",
     "text": [
      "Train Loss: 0.2938\n",
      "Validation Loss: 0.2888\n"
     ]
    },
    {
     "data": {
      "application/vnd.jupyter.widget-view+json": {
       "model_id": "e368415fb5d546d98e8c3f3c28806db3",
       "version_major": 2,
       "version_minor": 0
      },
      "text/plain": [
       "Epoch 77:   0%|          | 0/1215 [00:00<?, ?it/s]"
      ]
     },
     "metadata": {},
     "output_type": "display_data"
    },
    {
     "name": "stdout",
     "output_type": "stream",
     "text": [
      "Train Loss: 0.2945\n",
      "Validation Loss: 0.2879\n"
     ]
    },
    {
     "data": {
      "application/vnd.jupyter.widget-view+json": {
       "model_id": "e7b1f2c7526545cbadd2e3137236da5d",
       "version_major": 2,
       "version_minor": 0
      },
      "text/plain": [
       "Epoch 78:   0%|          | 0/1215 [00:00<?, ?it/s]"
      ]
     },
     "metadata": {},
     "output_type": "display_data"
    },
    {
     "name": "stdout",
     "output_type": "stream",
     "text": [
      "Train Loss: 0.2945\n",
      "Validation Loss: 0.2951\n"
     ]
    },
    {
     "data": {
      "application/vnd.jupyter.widget-view+json": {
       "model_id": "305e8727135e4604861546727efe1b8b",
       "version_major": 2,
       "version_minor": 0
      },
      "text/plain": [
       "Epoch 79:   0%|          | 0/1215 [00:00<?, ?it/s]"
      ]
     },
     "metadata": {},
     "output_type": "display_data"
    },
    {
     "name": "stdout",
     "output_type": "stream",
     "text": [
      "Train Loss: 0.2945\n",
      "Validation Loss: 0.2906\n"
     ]
    },
    {
     "data": {
      "application/vnd.jupyter.widget-view+json": {
       "model_id": "634a3fbd51cd4421a325145824058e0a",
       "version_major": 2,
       "version_minor": 0
      },
      "text/plain": [
       "Epoch 80:   0%|          | 0/1215 [00:00<?, ?it/s]"
      ]
     },
     "metadata": {},
     "output_type": "display_data"
    },
    {
     "name": "stdout",
     "output_type": "stream",
     "text": [
      "Train Loss: 0.2935\n",
      "Validation Loss: 0.2903\n"
     ]
    },
    {
     "data": {
      "application/vnd.jupyter.widget-view+json": {
       "model_id": "3a2965eb9b4c40ed8819a74656406be1",
       "version_major": 2,
       "version_minor": 0
      },
      "text/plain": [
       "Epoch 81:   0%|          | 0/1215 [00:00<?, ?it/s]"
      ]
     },
     "metadata": {},
     "output_type": "display_data"
    },
    {
     "name": "stdout",
     "output_type": "stream",
     "text": [
      "Train Loss: 0.2937\n",
      "Validation Loss: 0.2882\n"
     ]
    },
    {
     "data": {
      "application/vnd.jupyter.widget-view+json": {
       "model_id": "1ab5d8947ffa42dc8eb9cf71fcc888b9",
       "version_major": 2,
       "version_minor": 0
      },
      "text/plain": [
       "Epoch 82:   0%|          | 0/1215 [00:00<?, ?it/s]"
      ]
     },
     "metadata": {},
     "output_type": "display_data"
    },
    {
     "name": "stdout",
     "output_type": "stream",
     "text": [
      "Train Loss: 0.2938\n",
      "Validation Loss: 0.2889\n"
     ]
    },
    {
     "data": {
      "application/vnd.jupyter.widget-view+json": {
       "model_id": "a3ac6b0903494263a27d3ba521134ec2",
       "version_major": 2,
       "version_minor": 0
      },
      "text/plain": [
       "Epoch 83:   0%|          | 0/1215 [00:00<?, ?it/s]"
      ]
     },
     "metadata": {},
     "output_type": "display_data"
    },
    {
     "name": "stdout",
     "output_type": "stream",
     "text": [
      "Train Loss: 0.2933\n",
      "Validation Loss: 0.2888\n"
     ]
    },
    {
     "data": {
      "application/vnd.jupyter.widget-view+json": {
       "model_id": "57147a5e92d54d41b1f3107c7ea6e1e0",
       "version_major": 2,
       "version_minor": 0
      },
      "text/plain": [
       "Epoch 84:   0%|          | 0/1215 [00:00<?, ?it/s]"
      ]
     },
     "metadata": {},
     "output_type": "display_data"
    },
    {
     "name": "stdout",
     "output_type": "stream",
     "text": [
      "Train Loss: 0.2914\n",
      "Validation Loss: 0.2890\n"
     ]
    },
    {
     "data": {
      "application/vnd.jupyter.widget-view+json": {
       "model_id": "7866f2d02f034843a4f0064dd074ca22",
       "version_major": 2,
       "version_minor": 0
      },
      "text/plain": [
       "Epoch 85:   0%|          | 0/1215 [00:00<?, ?it/s]"
      ]
     },
     "metadata": {},
     "output_type": "display_data"
    },
    {
     "name": "stdout",
     "output_type": "stream",
     "text": [
      "Train Loss: 0.2907\n",
      "Validation Loss: 0.3035\n"
     ]
    },
    {
     "data": {
      "application/vnd.jupyter.widget-view+json": {
       "model_id": "395e849d2ccd4b428c950581b9b3fb4e",
       "version_major": 2,
       "version_minor": 0
      },
      "text/plain": [
       "Epoch 86:   0%|          | 0/1215 [00:00<?, ?it/s]"
      ]
     },
     "metadata": {},
     "output_type": "display_data"
    },
    {
     "name": "stdout",
     "output_type": "stream",
     "text": [
      "Train Loss: 0.2907\n",
      "Validation Loss: 0.3601\n"
     ]
    },
    {
     "data": {
      "application/vnd.jupyter.widget-view+json": {
       "model_id": "dd86de61ba4540639fb1951468f1fec3",
       "version_major": 2,
       "version_minor": 0
      },
      "text/plain": [
       "Epoch 87:   0%|          | 0/1215 [00:00<?, ?it/s]"
      ]
     },
     "metadata": {},
     "output_type": "display_data"
    },
    {
     "name": "stdout",
     "output_type": "stream",
     "text": [
      "Train Loss: 0.2911\n",
      "Validation Loss: 0.2877\n"
     ]
    },
    {
     "data": {
      "application/vnd.jupyter.widget-view+json": {
       "model_id": "d082b132b70c499eb0da94dedbb7a2b8",
       "version_major": 2,
       "version_minor": 0
      },
      "text/plain": [
       "Epoch 88:   0%|          | 0/1215 [00:00<?, ?it/s]"
      ]
     },
     "metadata": {},
     "output_type": "display_data"
    },
    {
     "name": "stdout",
     "output_type": "stream",
     "text": [
      "Train Loss: 0.2921\n",
      "Validation Loss: 0.2893\n"
     ]
    },
    {
     "data": {
      "application/vnd.jupyter.widget-view+json": {
       "model_id": "9d5fa3fb73294924a3c79dc8721f50b8",
       "version_major": 2,
       "version_minor": 0
      },
      "text/plain": [
       "Epoch 89:   0%|          | 0/1215 [00:00<?, ?it/s]"
      ]
     },
     "metadata": {},
     "output_type": "display_data"
    },
    {
     "name": "stdout",
     "output_type": "stream",
     "text": [
      "Train Loss: 0.2913\n",
      "Validation Loss: 0.2883\n"
     ]
    },
    {
     "data": {
      "application/vnd.jupyter.widget-view+json": {
       "model_id": "01817fbbc8764c6589cdf9ec3685518c",
       "version_major": 2,
       "version_minor": 0
      },
      "text/plain": [
       "Epoch 90:   0%|          | 0/1215 [00:00<?, ?it/s]"
      ]
     },
     "metadata": {},
     "output_type": "display_data"
    },
    {
     "name": "stdout",
     "output_type": "stream",
     "text": [
      "Train Loss: 0.2903\n",
      "Validation Loss: 0.2883\n"
     ]
    },
    {
     "data": {
      "application/vnd.jupyter.widget-view+json": {
       "model_id": "8796aa6910384e5e861694d2afc2d57c",
       "version_major": 2,
       "version_minor": 0
      },
      "text/plain": [
       "Epoch 91:   0%|          | 0/1215 [00:00<?, ?it/s]"
      ]
     },
     "metadata": {},
     "output_type": "display_data"
    },
    {
     "name": "stdout",
     "output_type": "stream",
     "text": [
      "Train Loss: 0.2905\n",
      "Validation Loss: 0.3369\n"
     ]
    },
    {
     "data": {
      "application/vnd.jupyter.widget-view+json": {
       "model_id": "bec3a4ff1d364542821dc616de58a710",
       "version_major": 2,
       "version_minor": 0
      },
      "text/plain": [
       "Epoch 92:   0%|          | 0/1215 [00:00<?, ?it/s]"
      ]
     },
     "metadata": {},
     "output_type": "display_data"
    },
    {
     "name": "stdout",
     "output_type": "stream",
     "text": [
      "Train Loss: 0.2903\n",
      "Validation Loss: 0.2916\n"
     ]
    },
    {
     "data": {
      "application/vnd.jupyter.widget-view+json": {
       "model_id": "2267682e773d4321bd82b6f07e7a4bfd",
       "version_major": 2,
       "version_minor": 0
      },
      "text/plain": [
       "Epoch 93:   0%|          | 0/1215 [00:00<?, ?it/s]"
      ]
     },
     "metadata": {},
     "output_type": "display_data"
    },
    {
     "name": "stdout",
     "output_type": "stream",
     "text": [
      "Train Loss: 0.2898\n",
      "Validation Loss: 0.2896\n"
     ]
    },
    {
     "data": {
      "application/vnd.jupyter.widget-view+json": {
       "model_id": "91369edefdf14488a4a866118704a583",
       "version_major": 2,
       "version_minor": 0
      },
      "text/plain": [
       "Epoch 94:   0%|          | 0/1215 [00:00<?, ?it/s]"
      ]
     },
     "metadata": {},
     "output_type": "display_data"
    },
    {
     "name": "stdout",
     "output_type": "stream",
     "text": [
      "Train Loss: 0.2892\n",
      "Validation Loss: 0.2883\n"
     ]
    },
    {
     "data": {
      "application/vnd.jupyter.widget-view+json": {
       "model_id": "857b4fa4d69a46d4a7c2cb5fceac292a",
       "version_major": 2,
       "version_minor": 0
      },
      "text/plain": [
       "Epoch 95:   0%|          | 0/1215 [00:00<?, ?it/s]"
      ]
     },
     "metadata": {},
     "output_type": "display_data"
    },
    {
     "name": "stdout",
     "output_type": "stream",
     "text": [
      "Train Loss: 0.2891\n",
      "Validation Loss: 0.2873\n"
     ]
    },
    {
     "data": {
      "application/vnd.jupyter.widget-view+json": {
       "model_id": "9f562df31cb6405b8d347d463bafe23c",
       "version_major": 2,
       "version_minor": 0
      },
      "text/plain": [
       "Epoch 96:   0%|          | 0/1215 [00:00<?, ?it/s]"
      ]
     },
     "metadata": {},
     "output_type": "display_data"
    },
    {
     "name": "stdout",
     "output_type": "stream",
     "text": [
      "Train Loss: 0.2888\n",
      "Validation Loss: 0.2870\n"
     ]
    },
    {
     "data": {
      "application/vnd.jupyter.widget-view+json": {
       "model_id": "ef0635b78fc04c209470384bf2ad67ed",
       "version_major": 2,
       "version_minor": 0
      },
      "text/plain": [
       "Epoch 97:   0%|          | 0/1215 [00:00<?, ?it/s]"
      ]
     },
     "metadata": {},
     "output_type": "display_data"
    },
    {
     "name": "stdout",
     "output_type": "stream",
     "text": [
      "Train Loss: 0.2896\n",
      "Validation Loss: 0.2917\n"
     ]
    },
    {
     "data": {
      "application/vnd.jupyter.widget-view+json": {
       "model_id": "2022a520ac9242fcada5dbba2db8ab29",
       "version_major": 2,
       "version_minor": 0
      },
      "text/plain": [
       "Epoch 98:   0%|          | 0/1215 [00:00<?, ?it/s]"
      ]
     },
     "metadata": {},
     "output_type": "display_data"
    },
    {
     "name": "stdout",
     "output_type": "stream",
     "text": [
      "Train Loss: 0.2898\n",
      "Validation Loss: 0.2873\n"
     ]
    },
    {
     "data": {
      "application/vnd.jupyter.widget-view+json": {
       "model_id": "8d4c317cf91a478697672aacd21ad8b5",
       "version_major": 2,
       "version_minor": 0
      },
      "text/plain": [
       "Epoch 99:   0%|          | 0/1215 [00:00<?, ?it/s]"
      ]
     },
     "metadata": {},
     "output_type": "display_data"
    },
    {
     "name": "stdout",
     "output_type": "stream",
     "text": [
      "Train Loss: 0.2892\n",
      "Validation Loss: 0.3329\n"
     ]
    },
    {
     "data": {
      "application/vnd.jupyter.widget-view+json": {
       "model_id": "f56e318a6691431e9ed1b8b4c4769254",
       "version_major": 2,
       "version_minor": 0
      },
      "text/plain": [
       "Epoch 100:   0%|          | 0/1215 [00:00<?, ?it/s]"
      ]
     },
     "metadata": {},
     "output_type": "display_data"
    },
    {
     "name": "stdout",
     "output_type": "stream",
     "text": [
      "Train Loss: 0.2890\n",
      "Validation Loss: 0.2900\n"
     ]
    },
    {
     "data": {
      "application/vnd.jupyter.widget-view+json": {
       "model_id": "e749c8134ad6410090a6633d1422f0d6",
       "version_major": 2,
       "version_minor": 0
      },
      "text/plain": [
       "Epoch 101:   0%|          | 0/1215 [00:00<?, ?it/s]"
      ]
     },
     "metadata": {},
     "output_type": "display_data"
    },
    {
     "name": "stdout",
     "output_type": "stream",
     "text": [
      "Train Loss: 0.2893\n",
      "Validation Loss: 0.2873\n"
     ]
    },
    {
     "data": {
      "application/vnd.jupyter.widget-view+json": {
       "model_id": "c8f28fc969fa414db3c7c0e8453274fd",
       "version_major": 2,
       "version_minor": 0
      },
      "text/plain": [
       "Epoch 102:   0%|          | 0/1215 [00:00<?, ?it/s]"
      ]
     },
     "metadata": {},
     "output_type": "display_data"
    },
    {
     "name": "stdout",
     "output_type": "stream",
     "text": [
      "Train Loss: 0.2896\n",
      "Validation Loss: 0.2890\n"
     ]
    },
    {
     "data": {
      "application/vnd.jupyter.widget-view+json": {
       "model_id": "47d19e3f275340dfa849869441d59213",
       "version_major": 2,
       "version_minor": 0
      },
      "text/plain": [
       "Epoch 103:   0%|          | 0/1215 [00:00<?, ?it/s]"
      ]
     },
     "metadata": {},
     "output_type": "display_data"
    },
    {
     "name": "stdout",
     "output_type": "stream",
     "text": [
      "Train Loss: 0.2881\n",
      "Validation Loss: 0.2906\n"
     ]
    },
    {
     "data": {
      "application/vnd.jupyter.widget-view+json": {
       "model_id": "57e045dedd9a48c1b6d2b271e97bb342",
       "version_major": 2,
       "version_minor": 0
      },
      "text/plain": [
       "Epoch 104:   0%|          | 0/1215 [00:00<?, ?it/s]"
      ]
     },
     "metadata": {},
     "output_type": "display_data"
    },
    {
     "name": "stdout",
     "output_type": "stream",
     "text": [
      "Train Loss: 0.2888\n",
      "Validation Loss: 0.2885\n"
     ]
    },
    {
     "data": {
      "application/vnd.jupyter.widget-view+json": {
       "model_id": "b48ed5fb20e042b3a859c4116d420c57",
       "version_major": 2,
       "version_minor": 0
      },
      "text/plain": [
       "Epoch 105:   0%|          | 0/1215 [00:00<?, ?it/s]"
      ]
     },
     "metadata": {},
     "output_type": "display_data"
    },
    {
     "name": "stdout",
     "output_type": "stream",
     "text": [
      "Train Loss: 0.2884\n",
      "Validation Loss: 0.2879\n"
     ]
    },
    {
     "data": {
      "application/vnd.jupyter.widget-view+json": {
       "model_id": "879b5a7a0034471fb6f29c704fe0a886",
       "version_major": 2,
       "version_minor": 0
      },
      "text/plain": [
       "Epoch 106:   0%|          | 0/1215 [00:00<?, ?it/s]"
      ]
     },
     "metadata": {},
     "output_type": "display_data"
    },
    {
     "name": "stdout",
     "output_type": "stream",
     "text": [
      "Train Loss: 0.2888\n",
      "Validation Loss: 0.2905\n",
      "Early stopping triggered.\n"
     ]
    }
   ],
   "source": [
    "# Основные библиотеки\n",
    "import pandas as pd\n",
    "import numpy as np\n",
    "\n",
    "# PyTorch\n",
    "import torch\n",
    "import torch.nn as nn\n",
    "import torch.optim as optim\n",
    "from torch.utils.data import Dataset, DataLoader\n",
    "from torch.cuda.amp import GradScaler, autocast\n",
    "from torch.optim.lr_scheduler import ReduceLROnPlateau\n",
    "\n",
    "# Модуль для визуализации прогресса\n",
    "from tqdm.notebook import tqdm\n",
    "\n",
    "# TensorBoard\n",
    "from torch.utils.tensorboard import SummaryWriter\n",
    "\n",
    "# Машинное обучение\n",
    "from sklearn.model_selection import train_test_split\n",
    "from sklearn.preprocessing import StandardScaler\n",
    "from sklearn.metrics import mean_absolute_error, mean_squared_error, r2_score\n",
    "\n",
    "# Загрузка данных\n",
    "df = pd.read_csv(\"cleaned_labirint_dataset.csv\")\n",
    "\n",
    "# Логарифмируем целевую переменную\n",
    "y = np.log1p(df['myPrice'])\n",
    "X = df.drop(columns=[\"myPrice\"])\n",
    "\n",
    "# Разделение данных\n",
    "X_train, X_temp, y_train, y_temp = train_test_split(X, y, test_size=0.2, random_state=42)\n",
    "X_val, X_test, y_val, y_test = train_test_split(X_temp, y_temp, test_size=0.5, random_state=42)\n",
    "\n",
    "# Масштабирование непрерывных признаков\n",
    "continuous_cols = [\"pages\", \"volume\"]\n",
    "scaler = StandardScaler()\n",
    "X_train[continuous_cols] = scaler.fit_transform(X_train[continuous_cols])\n",
    "X_val[continuous_cols] = scaler.transform(X_val[continuous_cols])\n",
    "X_test[continuous_cols] = scaler.transform(X_test[continuous_cols])\n",
    "\n",
    "# Создание Dataset и DataLoader\n",
    "class BookDataset(Dataset):\n",
    "    def __init__(self, X, y):\n",
    "        self.X = torch.tensor(X.values, dtype=torch.float32)\n",
    "        self.y = torch.tensor(y.values, dtype=torch.float32).unsqueeze(1)\n",
    "\n",
    "    def __len__(self):\n",
    "        return len(self.X)\n",
    "\n",
    "    def __getitem__(self, idx):\n",
    "        return self.X[idx], self.y[idx]\n",
    "\n",
    "device = torch.device(\"cuda\" if torch.cuda.is_available() else \"cpu\")\n",
    "print(\"Using device:\", device)\n",
    "\n",
    "train_dataset = BookDataset(X_train, y_train)\n",
    "val_dataset = BookDataset(X_val, y_val)\n",
    "test_dataset = BookDataset(X_test, y_test)\n",
    "\n",
    "train_loader = DataLoader(train_dataset, batch_size=64, shuffle=True)\n",
    "val_loader = DataLoader(val_dataset, batch_size=64, shuffle=False)\n",
    "test_loader = DataLoader(test_dataset, batch_size=64, shuffle=False)\n",
    "\n",
    "# Модель\n",
    "class AdvancedPriceRegressor(nn.Module):\n",
    "    def __init__(self, input_dim):\n",
    "        super(AdvancedPriceRegressor, self).__init__()\n",
    "        self.fc1 = nn.Linear(input_dim, 512)\n",
    "        self.bn1 = nn.BatchNorm1d(512)\n",
    "        self.relu1 = nn.ReLU()\n",
    "        self.dropout1 = nn.Dropout(0.2)\n",
    "\n",
    "        self.fc2 = nn.Linear(512, 256)\n",
    "        self.bn2 = nn.BatchNorm1d(256)\n",
    "        self.relu2 = nn.ReLU()\n",
    "        self.dropout2 = nn.Dropout(0.2)\n",
    "        \n",
    "        self.fc3 = nn.Linear(256, 128)\n",
    "        self.relu3 = nn.ReLU()\n",
    "        \n",
    "        self.fc_out = nn.Linear(128, 1)\n",
    "\n",
    "        self.residual = nn.Linear(input_dim, 1)\n",
    "\n",
    "    def forward(self, x):\n",
    "        residual = self.residual(x)\n",
    "        x = self.fc1(x)\n",
    "        x = self.bn1(x)\n",
    "        x = self.relu1(x)\n",
    "        x = self.dropout1(x)\n",
    "        \n",
    "        x = self.fc2(x)\n",
    "        x = self.bn2(x)\n",
    "        x = self.relu2(x)\n",
    "        x = self.dropout2(x)\n",
    "        \n",
    "        x = self.fc3(x)\n",
    "        x = self.relu3(x)\n",
    "        \n",
    "        x = self.fc_out(x)\n",
    "        return x + residual\n",
    "\n",
    "# Инициализация модели\n",
    "model = AdvancedPriceRegressor(input_dim=X_train.shape[1]).to(device)\n",
    "criterion = nn.MSELoss()\n",
    "optimizer = optim.AdamW(model.parameters(), lr=1e-3, weight_decay=1e-5)\n",
    "scheduler = ReduceLROnPlateau(optimizer, mode='min', patience=5, factor=0.5, verbose=True)\n",
    "scaler = GradScaler()\n",
    "\n",
    "# TensorBoard\n",
    "writer = SummaryWriter(log_dir=\"C:/temp/Project\")\n",
    "\n",
    "# Early Stopping\n",
    "patience = 10\n",
    "best_loss = float('inf')\n",
    "trigger_count = 0\n",
    "\n",
    "for epoch in range(300):\n",
    "    model.train()\n",
    "    total_train_loss = 0\n",
    "    \n",
    "    for batch_X, batch_y in tqdm(train_loader, desc=f\"Epoch {epoch+1}\"):\n",
    "        batch_X, batch_y = batch_X.to(device), batch_y.to(device)\n",
    "        \n",
    "        optimizer.zero_grad()\n",
    "        with autocast():\n",
    "            preds = model(batch_X)\n",
    "            loss = criterion(preds, batch_y)\n",
    "        \n",
    "        scaler.scale(loss).backward()\n",
    "        scaler.step(optimizer)\n",
    "        scaler.update()\n",
    "        total_train_loss += loss.item()\n",
    "    \n",
    "    avg_train_loss = total_train_loss / len(train_loader)\n",
    "    print(f\"Train Loss: {avg_train_loss:.4f}\")\n",
    "    writer.add_scalar(\"Loss/Train\", avg_train_loss, epoch)\n",
    "    \n",
    "    # Валидация\n",
    "    model.eval()\n",
    "    total_val_loss = 0\n",
    "    with torch.no_grad():\n",
    "        for val_X, val_y in val_loader:\n",
    "            val_X, val_y = val_X.to(device), val_y.to(device)\n",
    "            preds = model(val_X)\n",
    "            loss = criterion(preds, val_y)\n",
    "            total_val_loss += loss.item()\n",
    "    \n",
    "    avg_val_loss = total_val_loss / len(val_loader)\n",
    "    print(f\"Validation Loss: {avg_val_loss:.4f}\")\n",
    "    writer.add_scalar(\"Loss/Validation\", avg_val_loss, epoch)\n",
    "    \n",
    "    # Логируем Learning Rate\n",
    "    current_lr = optimizer.param_groups[0]['lr']\n",
    "    writer.add_scalar(\"LearningRate\", current_lr, epoch)\n",
    "    \n",
    "    # Шаг планировщика обучения\n",
    "    scheduler.step(avg_val_loss)\n",
    "    \n",
    "    # Early stopping\n",
    "    if avg_val_loss < best_loss:\n",
    "        best_loss = avg_val_loss\n",
    "        trigger_count = 0\n",
    "        torch.save(model.state_dict(), \"best_model.pt\")\n",
    "    else:\n",
    "        trigger_count += 1\n",
    "        if trigger_count >= patience:\n",
    "            print(\"Early stopping triggered.\")\n",
    "            break\n",
    "\n",
    "writer.close()"
   ]
  },
  {
   "cell_type": "markdown",
   "id": "8e436e94-5e9a-4a4e-8cbd-479cfaf6d6b2",
   "metadata": {},
   "source": [
    "3. Протестируем на тестовой выборке"
   ]
  },
  {
   "cell_type": "code",
   "execution_count": 12,
   "id": "cb3ca875-9d46-4d70-b1b1-fc197c70b548",
   "metadata": {},
   "outputs": [
    {
     "name": "stdout",
     "output_type": "stream",
     "text": [
      "Test MAE: 0.3991, MSE: 0.2929, R²: 0.7366\n"
     ]
    },
    {
     "name": "stderr",
     "output_type": "stream",
     "text": [
      "C:\\Users\\Мой компьютер\\AppData\\Local\\Temp\\ipykernel_25844\\3492870941.py:1: FutureWarning: You are using `torch.load` with `weights_only=False` (the current default value), which uses the default pickle module implicitly. It is possible to construct malicious pickle data which will execute arbitrary code during unpickling (See https://github.com/pytorch/pytorch/blob/main/SECURITY.md#untrusted-models for more details). In a future release, the default value for `weights_only` will be flipped to `True`. This limits the functions that could be executed during unpickling. Arbitrary objects will no longer be allowed to be loaded via this mode unless they are explicitly allowlisted by the user via `torch.serialization.add_safe_globals`. We recommend you start setting `weights_only=True` for any use case where you don't have full control of the loaded file. Please open an issue on GitHub for any issues related to this experimental feature.\n",
      "  model.load_state_dict(torch.load(\"best_model.pt\"))\n"
     ]
    }
   ],
   "source": [
    "model.load_state_dict(torch.load(\"best_model.pt\"))\n",
    "model.eval()\n",
    "\n",
    "y_preds, y_true = [], []\n",
    "with torch.no_grad():\n",
    "    for X_batch, y_batch in test_loader:\n",
    "        X_batch = X_batch.to(device)\n",
    "        preds = model(X_batch).cpu().numpy()\n",
    "        y_preds.extend(preds)\n",
    "        y_true.extend(y_batch.cpu().numpy())\n",
    "\n",
    "mae = mean_absolute_error(y_true, y_preds)\n",
    "mse = mean_squared_error(y_true, y_preds)\n",
    "r2 = r2_score(y_true, y_preds)\n",
    "\n",
    "print(f\"Test MAE: {mae:.4f}, MSE: {mse:.4f}, R²: {r2:.4f}\")"
   ]
  },
  {
   "cell_type": "code",
   "execution_count": 13,
   "id": "6672abe3-82ca-44ea-baed-c95a461fa920",
   "metadata": {},
   "outputs": [
    {
     "name": "stdout",
     "output_type": "stream",
     "text": [
      "AdvancedPriceRegressor(\n",
      "  (fc1): Linear(in_features=18, out_features=512, bias=True)\n",
      "  (bn1): BatchNorm1d(512, eps=1e-05, momentum=0.1, affine=True, track_running_stats=True)\n",
      "  (relu1): ReLU()\n",
      "  (dropout1): Dropout(p=0.2, inplace=False)\n",
      "  (fc2): Linear(in_features=512, out_features=256, bias=True)\n",
      "  (bn2): BatchNorm1d(256, eps=1e-05, momentum=0.1, affine=True, track_running_stats=True)\n",
      "  (relu2): ReLU()\n",
      "  (dropout2): Dropout(p=0.2, inplace=False)\n",
      "  (fc3): Linear(in_features=256, out_features=128, bias=True)\n",
      "  (relu3): ReLU()\n",
      "  (fc_out): Linear(in_features=128, out_features=1, bias=True)\n",
      "  (residual): Linear(in_features=18, out_features=1, bias=True)\n",
      ")\n"
     ]
    }
   ],
   "source": [
    "print(model)"
   ]
  },
  {
   "cell_type": "code",
   "execution_count": null,
   "id": "25a9c990-5353-4d98-a25e-d69498c6e897",
   "metadata": {},
   "outputs": [],
   "source": []
  }
 ],
 "metadata": {
  "kernelspec": {
   "display_name": "Python 3 (ipykernel)",
   "language": "python",
   "name": "python3"
  },
  "language_info": {
   "codemirror_mode": {
    "name": "ipython",
    "version": 3
   },
   "file_extension": ".py",
   "mimetype": "text/x-python",
   "name": "python",
   "nbconvert_exporter": "python",
   "pygments_lexer": "ipython3",
   "version": "3.12.3"
  }
 },
 "nbformat": 4,
 "nbformat_minor": 5
}
